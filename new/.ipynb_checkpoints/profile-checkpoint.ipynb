{
 "cells": [
  {
   "cell_type": "code",
   "execution_count": 1,
   "metadata": {},
   "outputs": [
    {
     "ename": "ImportError",
     "evalue": "cannot import name 'PowderWorld' from 'powderworld' (/data/vision/phillipi/powderworld/experiments/powderworld/powderworld/__init__.py)",
     "output_type": "error",
     "traceback": [
      "\u001b[0;31m---------------------------------------------------------------------------\u001b[0m",
      "\u001b[0;31mImportError\u001b[0m                               Traceback (most recent call last)",
      "Cell \u001b[0;32mIn [1], line 21\u001b[0m\n\u001b[1;32m     18\u001b[0m sns\u001b[38;5;241m.\u001b[39mset_style(\u001b[38;5;124m\"\u001b[39m\u001b[38;5;124mwhite\u001b[39m\u001b[38;5;124m\"\u001b[39m)\n\u001b[1;32m     20\u001b[0m device \u001b[38;5;241m=\u001b[39m torch\u001b[38;5;241m.\u001b[39mdevice(\u001b[38;5;124m'\u001b[39m\u001b[38;5;124mcuda\u001b[39m\u001b[38;5;124m'\u001b[39m \u001b[38;5;28;01mif\u001b[39;00m torch\u001b[38;5;241m.\u001b[39mcuda\u001b[38;5;241m.\u001b[39mis_available() \u001b[38;5;28;01melse\u001b[39;00m \u001b[38;5;124m'\u001b[39m\u001b[38;5;124mcpu\u001b[39m\u001b[38;5;124m'\u001b[39m)\n\u001b[0;32m---> 21\u001b[0m \u001b[38;5;28;01mfrom\u001b[39;00m \u001b[38;5;21;01mpowderworld\u001b[39;00m \u001b[38;5;28;01mimport\u001b[39;00m PowderWorld\n\u001b[1;32m     23\u001b[0m \u001b[38;5;66;03m# BENCHMARK\u001b[39;00m\n\u001b[1;32m     24\u001b[0m device \u001b[38;5;241m=\u001b[39m \u001b[38;5;124m'\u001b[39m\u001b[38;5;124mcuda\u001b[39m\u001b[38;5;124m'\u001b[39m\n",
      "\u001b[0;31mImportError\u001b[0m: cannot import name 'PowderWorld' from 'powderworld' (/data/vision/phillipi/powderworld/experiments/powderworld/powderworld/__init__.py)"
     ]
    }
   ],
   "source": [
    "%load_ext autoreload\n",
    "%autoreload 2\n",
    "\n",
    "import sys\n",
    "from tqdm.notebook import tqdm\n",
    "import numpy as np\n",
    "import matplotlib.pyplot as plt\n",
    "import torch\n",
    "import torch.nn.functional as F\n",
    "from torch import nn\n",
    "import io\n",
    "import base64\n",
    "from IPython import display as ipythondisplay\n",
    "from IPython.display import HTML\n",
    "import time\n",
    "import imageio\n",
    "import seaborn as sns\n",
    "sns.set_style(\"white\")\n",
    "\n",
    "device = torch.device('cuda' if torch.cuda.is_available() else 'cpu')\n",
    "from powderworld import PWSim\n",
    "\n",
    "# BENCHMARK\n",
    "device = 'cuda'\n",
    "torch.cuda.empty_cache()\n",
    "with torch.no_grad():\n",
    "    pw = PowderWorld(device, use_jit=False)\n",
    "    world = torch.zeros((16, pw.NUM_CHANNEL, 128, 128), dtype=torch.float32).to(device)\n",
    "    pw_jit = pw\n",
    "\n",
    "def run_size(batch, size):\n",
    "    print(batch, size)\n",
    "    with torch.no_grad():\n",
    "        world = torch.zeros((batch, pw.NUM_CHANNEL, size, size), dtype=torch.float32).to(device)\n",
    "        pw.add_element(world[:, :, :, :], \"empty\")\n",
    "        start = time.time()\n",
    "        for i in range(100):\n",
    "            world = pw_jit(world)\n",
    "    total_time = time.time() - start\n",
    "    return (100*batch)/total_time\n",
    "\n",
    "print(run_size(128, 32))\n"
   ]
  },
  {
   "cell_type": "code",
   "execution_count": null,
   "metadata": {},
   "outputs": [],
   "source": []
  }
 ],
 "metadata": {
  "kernelspec": {
   "display_name": "frog",
   "language": "python",
   "name": "frog"
  },
  "language_info": {
   "codemirror_mode": {
    "name": "ipython",
    "version": 3
   },
   "file_extension": ".py",
   "mimetype": "text/x-python",
   "name": "python",
   "nbconvert_exporter": "python",
   "pygments_lexer": "ipython3",
   "version": "3.9.15"
  }
 },
 "nbformat": 4,
 "nbformat_minor": 4
}
