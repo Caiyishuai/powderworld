{
 "cells": [
  {
   "cell_type": "code",
   "execution_count": 2,
   "metadata": {},
   "outputs": [
    {
     "name": "stdout",
     "output_type": "stream",
     "text": [
      "The autoreload extension is already loaded. To reload it, use:\n",
      "  %reload_ext autoreload\n",
      "128 32\n",
      "959.5506864671179\n"
     ]
    }
   ],
   "source": [
    "%load_ext autoreload\n",
    "%autoreload 2\n",
    "\n",
    "import sys\n",
    "from tqdm.notebook import tqdm\n",
    "import numpy as np\n",
    "import matplotlib.pyplot as plt\n",
    "import torch\n",
    "import torch.nn.functional as F\n",
    "from torch import nn\n",
    "import io\n",
    "import base64\n",
    "from IPython import display as ipythondisplay\n",
    "from IPython.display import HTML\n",
    "import time\n",
    "import imageio\n",
    "import seaborn as sns\n",
    "sns.set_style(\"white\")\n",
    "\n",
    "device = torch.device('cuda' if torch.cuda.is_available() else 'cpu')\n",
    "from powderworld import PWSim\n",
    "\n",
    "# BENCHMARK\n",
    "device = 'cuda'\n",
    "torch.cuda.empty_cache()\n",
    "with torch.no_grad():\n",
    "    pw = PWSim(device, use_jit=False)\n",
    "    world = torch.zeros((16, pw.NUM_CHANNEL, 128, 128), dtype=torch.float32).to(device)\n",
    "    pw_jit = pw\n",
    "\n",
    "def run_size(batch, size):\n",
    "    print(batch, size)\n",
    "    with torch.no_grad():\n",
    "        world = torch.zeros((batch, pw.NUM_CHANNEL, size, size), dtype=torch.float32).to(device)\n",
    "        pw.add_element(world[:, :, :, :], \"empty\")\n",
    "        start = time.time()\n",
    "        for i in range(100):\n",
    "            world = pw_jit(world)\n",
    "    total_time = time.time() - start\n",
    "    return (100*batch)/total_time\n",
    "\n",
    "print(run_size(128, 32))\n"
   ]
  },
  {
   "cell_type": "code",
   "execution_count": null,
   "metadata": {},
   "outputs": [],
   "source": []
  }
 ],
 "metadata": {
  "kernelspec": {
   "display_name": "frog",
   "language": "python",
   "name": "frog"
  },
  "language_info": {
   "codemirror_mode": {
    "name": "ipython",
    "version": 3
   },
   "file_extension": ".py",
   "mimetype": "text/x-python",
   "name": "python",
   "nbconvert_exporter": "python",
   "pygments_lexer": "ipython3",
   "version": "3.9.15"
  }
 },
 "nbformat": 4,
 "nbformat_minor": 4
}
